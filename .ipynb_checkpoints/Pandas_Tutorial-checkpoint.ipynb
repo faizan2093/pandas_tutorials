{
 "cells": [
  {
   "cell_type": "code",
   "execution_count": 1,
   "id": "7cfe90ec-d2e9-4454-8175-bba75c234a8f",
   "metadata": {},
   "outputs": [],
   "source": [
    "import numpy as np\n",
    "import pandas as pd"
   ]
  },
  {
   "cell_type": "code",
   "execution_count": null,
   "id": "e255ebba-90a6-43d3-aa5e-2db9531f59c5",
   "metadata": {},
   "outputs": [],
   "source": [
    "1 - Creation Of DataFrame"
   ]
  },
  {
   "cell_type": "code",
   "execution_count": 6,
   "id": "af715cfa-81de-49cc-9552-bbc392b23351",
   "metadata": {},
   "outputs": [
    {
     "name": "stdout",
     "output_type": "stream",
     "text": [
      "     Name  Age  Salary\n",
      "0    John   25   30000\n",
      "1  Petter   32   25000\n",
      "2    Lisa   33   24000\n"
     ]
    }
   ],
   "source": [
    "data = {\n",
    "    \"Name\": [\"John\", \"Petter\", \"Lisa\"],\n",
    "    \"Age\": [25, 32, 33],\n",
    "    \"Salary\": [30000, 25000, 24000]\n",
    "}\n",
    "\n",
    "df = pd.DataFrame(data)\n",
    "print(df)"
   ]
  },
  {
   "cell_type": "code",
   "execution_count": 8,
   "id": "a24a6577-f374-4130-9863-bc3c8edb5824",
   "metadata": {},
   "outputs": [
    {
     "name": "stdout",
     "output_type": "stream",
     "text": [
      "   Unnamed: 0      Name gender  salary\n",
      "0           0    ayushi      F   20000\n",
      "1           1     rohit      M   25000\n",
      "2           2  pranjali      F   27000\n"
     ]
    }
   ],
   "source": [
    "#Load CSV file\n",
    "df = pd.read_csv(\"company.csv\")\n",
    "\n",
    "# Print the DataFrame\n",
    "print(df)"
   ]
  },
  {
   "cell_type": "code",
   "execution_count": 10,
   "id": "845ae93e-1f36-41fa-a618-12329a08749a",
   "metadata": {},
   "outputs": [
    {
     "name": "stdout",
     "output_type": "stream",
     "text": [
      "         Date    Category       Sub-Category   Amount Payment Mode\n",
      "0  2023-01-01     Grocery             Grocery      30         Cash\n",
      "1  2023-01-02        Food          Restaurant     890          UPI\n",
      "2  2023-01-04         123              Zomato     257          NaN\n",
      "3  2023-01-06  Essentials               Diary     120          UPI\n",
      "4  2023-01-06  Essentials             Perfume    1500         Cash\n",
      "5  2023-01-09     Grocery  Fruits and Veggies     456         Cash\n",
      "6  2023-01-10       Bills          House Rent   16000          UPI\n",
      "7  2023-01-10     Grocery      Tomato KetchUp      70          UPI\n",
      "8  2023-01-12        Food                Chai      15          UPI\n",
      "9  2023-01-15  Essentials      Salt and Sugar      50          NaN\n",
      "10 2023-01-17     Grocery           Chocolate     100          UPI\n",
      "11 2023-01-17        Food          Restaurant     780         Card\n",
      "12 2023-01-18  Essentials            Food Oil     120          NaN\n",
      "13 2023-01-18        Food              Zomato     230          UPI\n",
      "14 2023-01-19     Grocery                Milk      26          UPI\n",
      "15 2023-01-20  Essentials             Shampoo     780          UPI\n",
      "16 2023-01-20  Essentials           Lunch Box     890         Cash\n",
      "17 2023-01-21     Clothes               Dress    1000          NaN\n",
      "18 2023-01-22     Clothes               Dress    1890          UPI\n",
      "19 2023-01-23     Grocery      Bread and Milk      56         Cash\n",
      "20 2023-01-24        Food  Fruits and Veggies     530         Cash\n",
      "21 2023-01-26        Food                Chai      10          UPI\n",
      "22 2023-01-26     Grocery               Maggi     140          UPI\n",
      "23 2023-01-27        Food              Zomato     300          UPI\n",
      "24 2023-01-27        Food                Chai      10          UPI\n",
      "25 2023-01-28  Essentials           Bedsheets    1025         Cash\n",
      "26 2023-01-29       Bills             Mobile     1650          UPI\n",
      "27 2023-01-29     Grocery                Daal     150         Cash\n",
      "28 2023-01-30       Bills            Cylinder    1074          UPI\n"
     ]
    }
   ],
   "source": [
    "#Load Excel file\n",
    "df = pd.read_excel(\"expense3.xlsx\")\n",
    "\n",
    "# Print the DataFrame\n",
    "print(df)"
   ]
  },
  {
   "cell_type": "markdown",
   "id": "2a3b2ebd-7656-436a-800d-16db6fed1823",
   "metadata": {},
   "source": [
    "2-Exploring Data in Pandas"
   ]
  },
  {
   "cell_type": "code",
   "execution_count": 8,
   "id": "b50bb507-d2d2-42d0-99c7-2f957a6c14a1",
   "metadata": {},
   "outputs": [
    {
     "name": "stdout",
     "output_type": "stream",
     "text": [
      "       EEID        Full Name                 Job Title  Department  \\\n",
      "0    E02387      Emily Davis                Sr. Manger          IT   \n",
      "1    E04105    Theodore Dinh       Technical Architect          IT   \n",
      "2    E02572     Luna Sanders                  Director     Finance   \n",
      "3    E02832  Penelope Jordan  Computer Systems Manager          IT   \n",
      "4    E01639        Austin Vo               Sr. Analyst     Finance   \n",
      "..      ...              ...                       ...         ...   \n",
      "995  E03094     Wesley Young               Sr. Analyst   Marketing   \n",
      "996  E01909     Lillian Khan                   Analyst     Finance   \n",
      "997  E04398      Oliver Yang                  Director   Marketing   \n",
      "998  E02521      Lily Nguyen               Sr. Analyst     Finance   \n",
      "999  E03545      Sofia Cheng            Vice President  Accounting   \n",
      "\n",
      "              Business Unit  Gender  Ethnicity  Age  Hire Date  Annual Salary  \\\n",
      "0    Research & Development  Female      Black   55 2016-04-08         141604   \n",
      "1             Manufacturing    Male      Asian   59 1997-11-29          99975   \n",
      "2       Speciality Products  Female  Caucasian   50 2006-10-26         163099   \n",
      "3             Manufacturing  Female  Caucasian   26 2019-09-27          84913   \n",
      "4             Manufacturing    Male      Asian   55 1995-11-20          95409   \n",
      "..                      ...     ...        ...  ...        ...            ...   \n",
      "995     Speciality Products    Male  Caucasian   33 2016-09-18          98427   \n",
      "996     Speciality Products  Female      Asian   44 2010-05-31          47387   \n",
      "997     Speciality Products    Male      Asian   31 2019-06-10         176710   \n",
      "998     Speciality Products  Female      Asian   33 2012-01-28          95960   \n",
      "999               Corporate  Female      Asian   63 2020-07-26         216195   \n",
      "\n",
      "     Bonus %        Country       City  Exit Date  \n",
      "0       0.15  United States    Seattle 2021-10-16  \n",
      "1       0.00          China  Chongqing        NaT  \n",
      "2       0.20  United States    Chicago        NaT  \n",
      "3       0.07  United States    Chicago        NaT  \n",
      "4       0.00  United States    Phoenix        NaT  \n",
      "..       ...            ...        ...        ...  \n",
      "995     0.00  United States   Columbus        NaT  \n",
      "996     0.00          China    Chengdu 2018-01-08  \n",
      "997     0.15  United States      Miami        NaT  \n",
      "998     0.00          China    Chengdu        NaT  \n",
      "999     0.31  United States      Miami        NaT  \n",
      "\n",
      "[1000 rows x 14 columns]\n"
     ]
    }
   ],
   "source": [
    "data = pd.read_excel(\"ESD.xlsx\")\n",
    "print(data)"
   ]
  },
  {
   "cell_type": "code",
   "execution_count": 9,
   "id": "b567996c-0155-4b25-9cf4-52cb800d6884",
   "metadata": {},
   "outputs": [
    {
     "data": {
      "text/html": [
       "<div>\n",
       "<style scoped>\n",
       "    .dataframe tbody tr th:only-of-type {\n",
       "        vertical-align: middle;\n",
       "    }\n",
       "\n",
       "    .dataframe tbody tr th {\n",
       "        vertical-align: top;\n",
       "    }\n",
       "\n",
       "    .dataframe thead th {\n",
       "        text-align: right;\n",
       "    }\n",
       "</style>\n",
       "<table border=\"1\" class=\"dataframe\">\n",
       "  <thead>\n",
       "    <tr style=\"text-align: right;\">\n",
       "      <th></th>\n",
       "      <th>EEID</th>\n",
       "      <th>Full Name</th>\n",
       "      <th>Job Title</th>\n",
       "      <th>Department</th>\n",
       "      <th>Business Unit</th>\n",
       "      <th>Gender</th>\n",
       "      <th>Ethnicity</th>\n",
       "      <th>Age</th>\n",
       "      <th>Hire Date</th>\n",
       "      <th>Annual Salary</th>\n",
       "      <th>Bonus %</th>\n",
       "      <th>Country</th>\n",
       "      <th>City</th>\n",
       "      <th>Exit Date</th>\n",
       "    </tr>\n",
       "  </thead>\n",
       "  <tbody>\n",
       "    <tr>\n",
       "      <th>0</th>\n",
       "      <td>E02387</td>\n",
       "      <td>Emily Davis</td>\n",
       "      <td>Sr. Manger</td>\n",
       "      <td>IT</td>\n",
       "      <td>Research &amp; Development</td>\n",
       "      <td>Female</td>\n",
       "      <td>Black</td>\n",
       "      <td>55</td>\n",
       "      <td>2016-04-08</td>\n",
       "      <td>141604</td>\n",
       "      <td>0.15</td>\n",
       "      <td>United States</td>\n",
       "      <td>Seattle</td>\n",
       "      <td>2021-10-16</td>\n",
       "    </tr>\n",
       "    <tr>\n",
       "      <th>1</th>\n",
       "      <td>E04105</td>\n",
       "      <td>Theodore Dinh</td>\n",
       "      <td>Technical Architect</td>\n",
       "      <td>IT</td>\n",
       "      <td>Manufacturing</td>\n",
       "      <td>Male</td>\n",
       "      <td>Asian</td>\n",
       "      <td>59</td>\n",
       "      <td>1997-11-29</td>\n",
       "      <td>99975</td>\n",
       "      <td>0.00</td>\n",
       "      <td>China</td>\n",
       "      <td>Chongqing</td>\n",
       "      <td>NaT</td>\n",
       "    </tr>\n",
       "    <tr>\n",
       "      <th>2</th>\n",
       "      <td>E02572</td>\n",
       "      <td>Luna Sanders</td>\n",
       "      <td>Director</td>\n",
       "      <td>Finance</td>\n",
       "      <td>Speciality Products</td>\n",
       "      <td>Female</td>\n",
       "      <td>Caucasian</td>\n",
       "      <td>50</td>\n",
       "      <td>2006-10-26</td>\n",
       "      <td>163099</td>\n",
       "      <td>0.20</td>\n",
       "      <td>United States</td>\n",
       "      <td>Chicago</td>\n",
       "      <td>NaT</td>\n",
       "    </tr>\n",
       "    <tr>\n",
       "      <th>3</th>\n",
       "      <td>E02832</td>\n",
       "      <td>Penelope Jordan</td>\n",
       "      <td>Computer Systems Manager</td>\n",
       "      <td>IT</td>\n",
       "      <td>Manufacturing</td>\n",
       "      <td>Female</td>\n",
       "      <td>Caucasian</td>\n",
       "      <td>26</td>\n",
       "      <td>2019-09-27</td>\n",
       "      <td>84913</td>\n",
       "      <td>0.07</td>\n",
       "      <td>United States</td>\n",
       "      <td>Chicago</td>\n",
       "      <td>NaT</td>\n",
       "    </tr>\n",
       "    <tr>\n",
       "      <th>4</th>\n",
       "      <td>E01639</td>\n",
       "      <td>Austin Vo</td>\n",
       "      <td>Sr. Analyst</td>\n",
       "      <td>Finance</td>\n",
       "      <td>Manufacturing</td>\n",
       "      <td>Male</td>\n",
       "      <td>Asian</td>\n",
       "      <td>55</td>\n",
       "      <td>1995-11-20</td>\n",
       "      <td>95409</td>\n",
       "      <td>0.00</td>\n",
       "      <td>United States</td>\n",
       "      <td>Phoenix</td>\n",
       "      <td>NaT</td>\n",
       "    </tr>\n",
       "  </tbody>\n",
       "</table>\n",
       "</div>"
      ],
      "text/plain": [
       "     EEID        Full Name                 Job Title Department  \\\n",
       "0  E02387      Emily Davis                Sr. Manger         IT   \n",
       "1  E04105    Theodore Dinh       Technical Architect         IT   \n",
       "2  E02572     Luna Sanders                  Director    Finance   \n",
       "3  E02832  Penelope Jordan  Computer Systems Manager         IT   \n",
       "4  E01639        Austin Vo               Sr. Analyst    Finance   \n",
       "\n",
       "            Business Unit  Gender  Ethnicity  Age  Hire Date  Annual Salary  \\\n",
       "0  Research & Development  Female      Black   55 2016-04-08         141604   \n",
       "1           Manufacturing    Male      Asian   59 1997-11-29          99975   \n",
       "2     Speciality Products  Female  Caucasian   50 2006-10-26         163099   \n",
       "3           Manufacturing  Female  Caucasian   26 2019-09-27          84913   \n",
       "4           Manufacturing    Male      Asian   55 1995-11-20          95409   \n",
       "\n",
       "   Bonus %        Country       City  Exit Date  \n",
       "0     0.15  United States    Seattle 2021-10-16  \n",
       "1     0.00          China  Chongqing        NaT  \n",
       "2     0.20  United States    Chicago        NaT  \n",
       "3     0.07  United States    Chicago        NaT  \n",
       "4     0.00  United States    Phoenix        NaT  "
      ]
     },
     "execution_count": 9,
     "metadata": {},
     "output_type": "execute_result"
    }
   ],
   "source": [
    "data.head()"
   ]
  },
  {
   "cell_type": "code",
   "execution_count": 10,
   "id": "3b2b7074-7ef2-4f68-aff3-fe7c97ab66ec",
   "metadata": {},
   "outputs": [
    {
     "data": {
      "text/html": [
       "<div>\n",
       "<style scoped>\n",
       "    .dataframe tbody tr th:only-of-type {\n",
       "        vertical-align: middle;\n",
       "    }\n",
       "\n",
       "    .dataframe tbody tr th {\n",
       "        vertical-align: top;\n",
       "    }\n",
       "\n",
       "    .dataframe thead th {\n",
       "        text-align: right;\n",
       "    }\n",
       "</style>\n",
       "<table border=\"1\" class=\"dataframe\">\n",
       "  <thead>\n",
       "    <tr style=\"text-align: right;\">\n",
       "      <th></th>\n",
       "      <th>EEID</th>\n",
       "      <th>Full Name</th>\n",
       "      <th>Job Title</th>\n",
       "      <th>Department</th>\n",
       "      <th>Business Unit</th>\n",
       "      <th>Gender</th>\n",
       "      <th>Ethnicity</th>\n",
       "      <th>Age</th>\n",
       "      <th>Hire Date</th>\n",
       "      <th>Annual Salary</th>\n",
       "      <th>Bonus %</th>\n",
       "      <th>Country</th>\n",
       "      <th>City</th>\n",
       "      <th>Exit Date</th>\n",
       "    </tr>\n",
       "  </thead>\n",
       "  <tbody>\n",
       "    <tr>\n",
       "      <th>995</th>\n",
       "      <td>E03094</td>\n",
       "      <td>Wesley Young</td>\n",
       "      <td>Sr. Analyst</td>\n",
       "      <td>Marketing</td>\n",
       "      <td>Speciality Products</td>\n",
       "      <td>Male</td>\n",
       "      <td>Caucasian</td>\n",
       "      <td>33</td>\n",
       "      <td>2016-09-18</td>\n",
       "      <td>98427</td>\n",
       "      <td>0.00</td>\n",
       "      <td>United States</td>\n",
       "      <td>Columbus</td>\n",
       "      <td>NaT</td>\n",
       "    </tr>\n",
       "    <tr>\n",
       "      <th>996</th>\n",
       "      <td>E01909</td>\n",
       "      <td>Lillian Khan</td>\n",
       "      <td>Analyst</td>\n",
       "      <td>Finance</td>\n",
       "      <td>Speciality Products</td>\n",
       "      <td>Female</td>\n",
       "      <td>Asian</td>\n",
       "      <td>44</td>\n",
       "      <td>2010-05-31</td>\n",
       "      <td>47387</td>\n",
       "      <td>0.00</td>\n",
       "      <td>China</td>\n",
       "      <td>Chengdu</td>\n",
       "      <td>2018-01-08</td>\n",
       "    </tr>\n",
       "    <tr>\n",
       "      <th>997</th>\n",
       "      <td>E04398</td>\n",
       "      <td>Oliver Yang</td>\n",
       "      <td>Director</td>\n",
       "      <td>Marketing</td>\n",
       "      <td>Speciality Products</td>\n",
       "      <td>Male</td>\n",
       "      <td>Asian</td>\n",
       "      <td>31</td>\n",
       "      <td>2019-06-10</td>\n",
       "      <td>176710</td>\n",
       "      <td>0.15</td>\n",
       "      <td>United States</td>\n",
       "      <td>Miami</td>\n",
       "      <td>NaT</td>\n",
       "    </tr>\n",
       "    <tr>\n",
       "      <th>998</th>\n",
       "      <td>E02521</td>\n",
       "      <td>Lily Nguyen</td>\n",
       "      <td>Sr. Analyst</td>\n",
       "      <td>Finance</td>\n",
       "      <td>Speciality Products</td>\n",
       "      <td>Female</td>\n",
       "      <td>Asian</td>\n",
       "      <td>33</td>\n",
       "      <td>2012-01-28</td>\n",
       "      <td>95960</td>\n",
       "      <td>0.00</td>\n",
       "      <td>China</td>\n",
       "      <td>Chengdu</td>\n",
       "      <td>NaT</td>\n",
       "    </tr>\n",
       "    <tr>\n",
       "      <th>999</th>\n",
       "      <td>E03545</td>\n",
       "      <td>Sofia Cheng</td>\n",
       "      <td>Vice President</td>\n",
       "      <td>Accounting</td>\n",
       "      <td>Corporate</td>\n",
       "      <td>Female</td>\n",
       "      <td>Asian</td>\n",
       "      <td>63</td>\n",
       "      <td>2020-07-26</td>\n",
       "      <td>216195</td>\n",
       "      <td>0.31</td>\n",
       "      <td>United States</td>\n",
       "      <td>Miami</td>\n",
       "      <td>NaT</td>\n",
       "    </tr>\n",
       "  </tbody>\n",
       "</table>\n",
       "</div>"
      ],
      "text/plain": [
       "       EEID     Full Name       Job Title  Department        Business Unit  \\\n",
       "995  E03094  Wesley Young     Sr. Analyst   Marketing  Speciality Products   \n",
       "996  E01909  Lillian Khan         Analyst     Finance  Speciality Products   \n",
       "997  E04398   Oliver Yang        Director   Marketing  Speciality Products   \n",
       "998  E02521   Lily Nguyen     Sr. Analyst     Finance  Speciality Products   \n",
       "999  E03545   Sofia Cheng  Vice President  Accounting            Corporate   \n",
       "\n",
       "     Gender  Ethnicity  Age  Hire Date  Annual Salary  Bonus %        Country  \\\n",
       "995    Male  Caucasian   33 2016-09-18          98427     0.00  United States   \n",
       "996  Female      Asian   44 2010-05-31          47387     0.00          China   \n",
       "997    Male      Asian   31 2019-06-10         176710     0.15  United States   \n",
       "998  Female      Asian   33 2012-01-28          95960     0.00          China   \n",
       "999  Female      Asian   63 2020-07-26         216195     0.31  United States   \n",
       "\n",
       "         City  Exit Date  \n",
       "995  Columbus        NaT  \n",
       "996   Chengdu 2018-01-08  \n",
       "997     Miami        NaT  \n",
       "998   Chengdu        NaT  \n",
       "999     Miami        NaT  "
      ]
     },
     "execution_count": 10,
     "metadata": {},
     "output_type": "execute_result"
    }
   ],
   "source": [
    "data.tail()"
   ]
  },
  {
   "cell_type": "code",
   "execution_count": 11,
   "id": "f00cd644-0ba7-4ffc-818c-d5f0b5f378bc",
   "metadata": {},
   "outputs": [
    {
     "name": "stdout",
     "output_type": "stream",
     "text": [
      "<class 'pandas.core.frame.DataFrame'>\n",
      "RangeIndex: 1000 entries, 0 to 999\n",
      "Data columns (total 14 columns):\n",
      " #   Column         Non-Null Count  Dtype         \n",
      "---  ------         --------------  -----         \n",
      " 0   EEID           1000 non-null   object        \n",
      " 1   Full Name      1000 non-null   object        \n",
      " 2   Job Title      1000 non-null   object        \n",
      " 3   Department     1000 non-null   object        \n",
      " 4   Business Unit  1000 non-null   object        \n",
      " 5   Gender         1000 non-null   object        \n",
      " 6   Ethnicity      1000 non-null   object        \n",
      " 7   Age            1000 non-null   int64         \n",
      " 8   Hire Date      1000 non-null   datetime64[ns]\n",
      " 9   Annual Salary  1000 non-null   int64         \n",
      " 10  Bonus %        1000 non-null   float64       \n",
      " 11  Country        1000 non-null   object        \n",
      " 12  City           1000 non-null   object        \n",
      " 13  Exit Date      85 non-null     datetime64[ns]\n",
      "dtypes: datetime64[ns](2), float64(1), int64(2), object(9)\n",
      "memory usage: 109.5+ KB\n"
     ]
    }
   ],
   "source": [
    "data.info()"
   ]
  },
  {
   "cell_type": "code",
   "execution_count": 13,
   "id": "25048f83-e5e2-47ef-9202-1069ca13e1a9",
   "metadata": {},
   "outputs": [
    {
     "data": {
      "text/html": [
       "<div>\n",
       "<style scoped>\n",
       "    .dataframe tbody tr th:only-of-type {\n",
       "        vertical-align: middle;\n",
       "    }\n",
       "\n",
       "    .dataframe tbody tr th {\n",
       "        vertical-align: top;\n",
       "    }\n",
       "\n",
       "    .dataframe thead th {\n",
       "        text-align: right;\n",
       "    }\n",
       "</style>\n",
       "<table border=\"1\" class=\"dataframe\">\n",
       "  <thead>\n",
       "    <tr style=\"text-align: right;\">\n",
       "      <th></th>\n",
       "      <th>Age</th>\n",
       "      <th>Hire Date</th>\n",
       "      <th>Annual Salary</th>\n",
       "      <th>Bonus %</th>\n",
       "      <th>Exit Date</th>\n",
       "    </tr>\n",
       "  </thead>\n",
       "  <tbody>\n",
       "    <tr>\n",
       "      <th>count</th>\n",
       "      <td>1000.000000</td>\n",
       "      <td>1000</td>\n",
       "      <td>1000.000000</td>\n",
       "      <td>1000.000000</td>\n",
       "      <td>85</td>\n",
       "    </tr>\n",
       "    <tr>\n",
       "      <th>mean</th>\n",
       "      <td>44.382000</td>\n",
       "      <td>2012-04-07 02:54:14.400000</td>\n",
       "      <td>113217.365000</td>\n",
       "      <td>0.088660</td>\n",
       "      <td>2016-11-02 18:04:14.117647104</td>\n",
       "    </tr>\n",
       "    <tr>\n",
       "      <th>min</th>\n",
       "      <td>25.000000</td>\n",
       "      <td>1992-01-09 00:00:00</td>\n",
       "      <td>40063.000000</td>\n",
       "      <td>0.000000</td>\n",
       "      <td>1994-12-18 00:00:00</td>\n",
       "    </tr>\n",
       "    <tr>\n",
       "      <th>25%</th>\n",
       "      <td>35.000000</td>\n",
       "      <td>2007-02-14 00:00:00</td>\n",
       "      <td>71430.250000</td>\n",
       "      <td>0.000000</td>\n",
       "      <td>2014-12-25 00:00:00</td>\n",
       "    </tr>\n",
       "    <tr>\n",
       "      <th>50%</th>\n",
       "      <td>45.000000</td>\n",
       "      <td>2014-02-15 12:00:00</td>\n",
       "      <td>96557.000000</td>\n",
       "      <td>0.000000</td>\n",
       "      <td>2019-05-23 00:00:00</td>\n",
       "    </tr>\n",
       "    <tr>\n",
       "      <th>75%</th>\n",
       "      <td>54.000000</td>\n",
       "      <td>2018-06-22 00:00:00</td>\n",
       "      <td>150782.250000</td>\n",
       "      <td>0.150000</td>\n",
       "      <td>2021-04-09 00:00:00</td>\n",
       "    </tr>\n",
       "    <tr>\n",
       "      <th>max</th>\n",
       "      <td>65.000000</td>\n",
       "      <td>2021-12-26 00:00:00</td>\n",
       "      <td>258498.000000</td>\n",
       "      <td>0.400000</td>\n",
       "      <td>2022-08-17 00:00:00</td>\n",
       "    </tr>\n",
       "    <tr>\n",
       "      <th>std</th>\n",
       "      <td>11.246981</td>\n",
       "      <td>NaN</td>\n",
       "      <td>53545.985644</td>\n",
       "      <td>0.117856</td>\n",
       "      <td>NaN</td>\n",
       "    </tr>\n",
       "  </tbody>\n",
       "</table>\n",
       "</div>"
      ],
      "text/plain": [
       "               Age                   Hire Date  Annual Salary      Bonus %  \\\n",
       "count  1000.000000                        1000    1000.000000  1000.000000   \n",
       "mean     44.382000  2012-04-07 02:54:14.400000  113217.365000     0.088660   \n",
       "min      25.000000         1992-01-09 00:00:00   40063.000000     0.000000   \n",
       "25%      35.000000         2007-02-14 00:00:00   71430.250000     0.000000   \n",
       "50%      45.000000         2014-02-15 12:00:00   96557.000000     0.000000   \n",
       "75%      54.000000         2018-06-22 00:00:00  150782.250000     0.150000   \n",
       "max      65.000000         2021-12-26 00:00:00  258498.000000     0.400000   \n",
       "std      11.246981                         NaN   53545.985644     0.117856   \n",
       "\n",
       "                           Exit Date  \n",
       "count                             85  \n",
       "mean   2016-11-02 18:04:14.117647104  \n",
       "min              1994-12-18 00:00:00  \n",
       "25%              2014-12-25 00:00:00  \n",
       "50%              2019-05-23 00:00:00  \n",
       "75%              2021-04-09 00:00:00  \n",
       "max              2022-08-17 00:00:00  \n",
       "std                              NaN  "
      ]
     },
     "execution_count": 13,
     "metadata": {},
     "output_type": "execute_result"
    }
   ],
   "source": [
    "data.describe()"
   ]
  },
  {
   "cell_type": "code",
   "execution_count": 18,
   "id": "5d9fdad9-2b81-4c40-b7ea-dc25fbabfb3c",
   "metadata": {},
   "outputs": [
    {
     "name": "stdout",
     "output_type": "stream",
     "text": [
      "EEID               0\n",
      "Full Name          0\n",
      "Job Title          0\n",
      "Department         0\n",
      "Business Unit      0\n",
      "Gender             0\n",
      "Ethnicity          0\n",
      "Age                0\n",
      "Hire Date          0\n",
      "Annual Salary      0\n",
      "Bonus %            0\n",
      "Country            0\n",
      "City               0\n",
      "Exit Date        915\n",
      "dtype: int64\n"
     ]
    }
   ],
   "source": [
    "#find Null Values\n",
    "print(data.isnull().sum())"
   ]
  },
  {
   "cell_type": "markdown",
   "id": "f0d11484-fa26-408b-9759-2c8e6c3000c5",
   "metadata": {},
   "source": [
    "3-Dealing With Duplicate Values in Data set."
   ]
  },
  {
   "cell_type": "code",
   "execution_count": 2,
   "id": "583b74ed-3429-41ae-8ae8-ee78f5ad1ff9",
   "metadata": {},
   "outputs": [
    {
     "name": "stdout",
     "output_type": "stream",
     "text": [
      "    EEID      Name gender   salary\n",
      "0  EMP01    ayushi      F      NaN\n",
      "1  EMP02     rohit      M  25000.0\n",
      "2  EMP03  pranjali    NaN  27000.0\n",
      "3  EMP01    ayushi      F  20000.0\n",
      "4  EMP05       NaN      M  25000.0\n",
      "5  EMP06     rohit      M      NaN\n",
      "6  EMP02     rohit      M  25000.0\n"
     ]
    }
   ],
   "source": [
    "data = pd.read_csv(\"company1.csv\")\n",
    "print(data)"
   ]
  },
  {
   "cell_type": "code",
   "execution_count": 3,
   "id": "0ac0b988-5284-4e84-a2c6-68cf1dd0dbc7",
   "metadata": {},
   "outputs": [
    {
     "name": "stdout",
     "output_type": "stream",
     "text": [
      "0    False\n",
      "1    False\n",
      "2    False\n",
      "3    False\n",
      "4    False\n",
      "5    False\n",
      "6     True\n",
      "dtype: bool\n"
     ]
    }
   ],
   "source": [
    "#find Duplicate data\n",
    "print(data.duplicated())"
   ]
  },
  {
   "cell_type": "code",
   "execution_count": 5,
   "id": "15a6df45-3115-44c1-bf8e-c1ab2922c07e",
   "metadata": {},
   "outputs": [
    {
     "name": "stdout",
     "output_type": "stream",
     "text": [
      "2\n"
     ]
    }
   ],
   "source": [
    "#Row wise Duplicate values\n",
    "print(data[\"EEID\"].duplicated().sum())"
   ]
  },
  {
   "cell_type": "code",
   "execution_count": 7,
   "id": "e877e78b-9410-4ebf-ba1d-0e8d84c83978",
   "metadata": {},
   "outputs": [
    {
     "name": "stdout",
     "output_type": "stream",
     "text": [
      "    EEID      Name gender   salary\n",
      "0  EMP01    ayushi      F      NaN\n",
      "1  EMP02     rohit      M  25000.0\n",
      "2  EMP03  pranjali    NaN  27000.0\n",
      "4  EMP05       NaN      M  25000.0\n",
      "5  EMP06     rohit      M      NaN\n"
     ]
    }
   ],
   "source": [
    "#Drop duplicate values on column ,\n",
    "#note if you delete row then use primary column.\n",
    "\n",
    "print(data.drop_duplicates(\"EEID\"))"
   ]
  },
  {
   "cell_type": "markdown",
   "id": "83b49bfd-3915-4a96-bc23-f297dc2ea87d",
   "metadata": {},
   "source": [
    "4-Working  With Missing Data in Pandas."
   ]
  },
  {
   "cell_type": "code",
   "execution_count": 2,
   "id": "be248c81-2c04-460f-a6c1-9d91993cafa6",
   "metadata": {},
   "outputs": [
    {
     "name": "stdout",
     "output_type": "stream",
     "text": [
      "    EEID      Name gender   salary\n",
      "0  EMP01    ayushi      F      NaN\n",
      "1  EMP02     rohit      M  25000.0\n",
      "2  EMP03  pranjali    NaN  27000.0\n",
      "3  EMP01    ayushi      F  20000.0\n",
      "4  EMP05       NaN      M  25000.0\n",
      "5  EMP06     rohit      M      NaN\n",
      "6  EMP02     rohit      M  25000.0\n"
     ]
    }
   ],
   "source": [
    "data = pd.read_csv(\"company1.csv\")\n",
    "print(data)"
   ]
  },
  {
   "cell_type": "code",
   "execution_count": 4,
   "id": "9c1d706a-d831-47e9-93f2-6d48dc801eff",
   "metadata": {},
   "outputs": [
    {
     "data": {
      "text/plain": [
       "EEID      0\n",
       "Name      1\n",
       "gender    1\n",
       "salary    2\n",
       "dtype: int64"
      ]
     },
     "execution_count": 4,
     "metadata": {},
     "output_type": "execute_result"
    }
   ],
   "source": [
    "data.isnull().sum()"
   ]
  },
  {
   "cell_type": "code",
   "execution_count": 6,
   "id": "a8bcd0df-a162-4232-b4e9-1fad3aa056d8",
   "metadata": {},
   "outputs": [
    {
     "name": "stdout",
     "output_type": "stream",
     "text": [
      "    EEID      Name gender   salary\n",
      "0  EMP01    ayushi      F      0.0\n",
      "1  EMP02     rohit      M  25000.0\n",
      "2  EMP03  pranjali      0  27000.0\n",
      "3  EMP01    ayushi      F  20000.0\n",
      "4  EMP05         0      M  25000.0\n",
      "5  EMP06     rohit      M      0.0\n",
      "6  EMP02     rohit      M  25000.0\n"
     ]
    }
   ],
   "source": [
    "#Replace all null values\n",
    "print(data.replace(np.nan,0000))"
   ]
  },
  {
   "cell_type": "code",
   "execution_count": 7,
   "id": "4fd392f8-1cad-4e2b-9203-285978258b4f",
   "metadata": {},
   "outputs": [
    {
     "name": "stdout",
     "output_type": "stream",
     "text": [
      "    EEID      Name gender   salary\n",
      "0  EMP01    ayushi      F      0.0\n",
      "1  EMP02     rohit      M  25000.0\n",
      "2  EMP03  pranjali    NaN  27000.0\n",
      "3  EMP01    ayushi      F  20000.0\n",
      "4  EMP05       NaN      M  25000.0\n",
      "5  EMP06     rohit      M      0.0\n",
      "6  EMP02     rohit      M  25000.0\n"
     ]
    }
   ],
   "source": [
    "#replace column wise null values\n",
    "data[\"salary\"] = data[\"salary\"].replace(np.nan, 0000)\n",
    "print(data)"
   ]
  },
  {
   "cell_type": "markdown",
   "id": "1c169e5c-d34c-41c2-8043-195fb6455c7b",
   "metadata": {},
   "source": [
    "4.2:Mean Values in data"
   ]
  },
  {
   "cell_type": "code",
   "execution_count": 9,
   "id": "1d33c85f-49e1-49f5-8b21-d18e0ac1e867",
   "metadata": {},
   "outputs": [
    {
     "name": "stdout",
     "output_type": "stream",
     "text": [
      "    EEID      Name gender   salary\n",
      "0  EMP01    ayushi      F      NaN\n",
      "1  EMP02     rohit      M  25000.0\n",
      "2  EMP03  pranjali    NaN  27000.0\n",
      "3  EMP01    ayushi      F  20000.0\n",
      "4  EMP05       NaN      M  25000.0\n",
      "5  EMP06     rohit      M      NaN\n",
      "6  EMP02     rohit      M  25000.0\n"
     ]
    }
   ],
   "source": [
    "data = pd.read_csv(\"company1.csv\")\n",
    "print(data)"
   ]
  },
  {
   "cell_type": "code",
   "execution_count": 10,
   "id": "1cf32e9f-996f-461c-9aca-79ef00313bc9",
   "metadata": {},
   "outputs": [
    {
     "name": "stdout",
     "output_type": "stream",
     "text": [
      "24400.0\n"
     ]
    }
   ],
   "source": [
    "print(data[\"salary\"].mean())"
   ]
  },
  {
   "cell_type": "code",
   "execution_count": 11,
   "id": "0f0b7893-b143-4112-80a0-59aee858d4de",
   "metadata": {},
   "outputs": [
    {
     "name": "stdout",
     "output_type": "stream",
     "text": [
      "    EEID      Name gender   salary\n",
      "0  EMP01    ayushi      F  24400.0\n",
      "1  EMP02     rohit      M  25000.0\n",
      "2  EMP03  pranjali    NaN  27000.0\n",
      "3  EMP01    ayushi      F  20000.0\n",
      "4  EMP05       NaN      M  25000.0\n",
      "5  EMP06     rohit      M  24400.0\n",
      "6  EMP02     rohit      M  25000.0\n"
     ]
    }
   ],
   "source": [
    "#replace column wise null values\n",
    "data[\"salary\"] = data[\"salary\"].replace(np.nan, 24400.0)\n",
    "print(data)"
   ]
  },
  {
   "cell_type": "markdown",
   "id": "78f38955-0bdc-4c13-814c-723fafd68bcb",
   "metadata": {},
   "source": [
    "4.3:Forword fill backword fill for gender column."
   ]
  },
  {
   "cell_type": "code",
   "execution_count": 12,
   "id": "eea5c7c6-2563-455c-9512-51b6adc76ce4",
   "metadata": {},
   "outputs": [
    {
     "name": "stdout",
     "output_type": "stream",
     "text": [
      "    EEID      Name gender   salary\n",
      "0  EMP01    ayushi      F      NaN\n",
      "1  EMP02     rohit      M  25000.0\n",
      "2  EMP03  pranjali    NaN  27000.0\n",
      "3  EMP01    ayushi      F  20000.0\n",
      "4  EMP05       NaN      M  25000.0\n",
      "5  EMP06     rohit      M      NaN\n",
      "6  EMP02     rohit      M  25000.0\n"
     ]
    }
   ],
   "source": [
    "data = pd.read_csv(\"company1.csv\")\n",
    "print(data)"
   ]
  },
  {
   "cell_type": "code",
   "execution_count": 14,
   "id": "0921e307-1bb5-419d-844e-d7a2dd609e59",
   "metadata": {},
   "outputs": [
    {
     "name": "stdout",
     "output_type": "stream",
     "text": [
      "    EEID      Name gender   salary\n",
      "0  EMP01    ayushi      F  25000.0\n",
      "1  EMP02     rohit      M  25000.0\n",
      "2  EMP03  pranjali      F  27000.0\n",
      "3  EMP01    ayushi      F  20000.0\n",
      "4  EMP05     rohit      M  25000.0\n",
      "5  EMP06     rohit      M  25000.0\n",
      "6  EMP02     rohit      M  25000.0\n"
     ]
    },
    {
     "name": "stderr",
     "output_type": "stream",
     "text": [
      "C:\\Users\\fkuwa\\AppData\\Local\\Temp\\ipykernel_9488\\2754045057.py:1: FutureWarning: DataFrame.fillna with 'method' is deprecated and will raise in a future version. Use obj.ffill() or obj.bfill() instead.\n",
      "  print(data.fillna(method = \"bfill\"))\n"
     ]
    }
   ],
   "source": [
    "#Backword fill\n",
    "print(data.fillna(method = \"bfill\"))"
   ]
  },
  {
   "cell_type": "code",
   "execution_count": 15,
   "id": "a78a68cd-11da-4857-992a-d03c2d168bc9",
   "metadata": {},
   "outputs": [
    {
     "name": "stdout",
     "output_type": "stream",
     "text": [
      "    EEID      Name gender   salary\n",
      "0  EMP01    ayushi      F      NaN\n",
      "1  EMP02     rohit      M  25000.0\n",
      "2  EMP03  pranjali      M  27000.0\n",
      "3  EMP01    ayushi      F  20000.0\n",
      "4  EMP05    ayushi      M  25000.0\n",
      "5  EMP06     rohit      M  25000.0\n",
      "6  EMP02     rohit      M  25000.0\n"
     ]
    },
    {
     "name": "stderr",
     "output_type": "stream",
     "text": [
      "C:\\Users\\fkuwa\\AppData\\Local\\Temp\\ipykernel_9488\\1288348595.py:2: FutureWarning: DataFrame.fillna with 'method' is deprecated and will raise in a future version. Use obj.ffill() or obj.bfill() instead.\n",
      "  print(data.fillna(method = \"ffill\"))\n"
     ]
    }
   ],
   "source": [
    "#forward fill\n",
    "print(data.fillna(method = \"ffill\"))"
   ]
  },
  {
   "cell_type": "markdown",
   "id": "d62968ec-2581-4a58-93ea-9aeee225dd57",
   "metadata": {},
   "source": [
    "5-Column Transformation in Pandas Part-1."
   ]
  },
  {
   "cell_type": "code",
   "execution_count": 9,
   "id": "de17d838-be76-420f-9c9b-9a9b13f948ef",
   "metadata": {},
   "outputs": [
    {
     "name": "stdout",
     "output_type": "stream",
     "text": [
      "       EEID        Full Name                 Job Title  Department  \\\n",
      "0    E02387      Emily Davis                Sr. Manger          IT   \n",
      "1    E04105    Theodore Dinh       Technical Architect          IT   \n",
      "2    E02572     Luna Sanders                  Director     Finance   \n",
      "3    E02832  Penelope Jordan  Computer Systems Manager          IT   \n",
      "4    E01639        Austin Vo               Sr. Analyst     Finance   \n",
      "..      ...              ...                       ...         ...   \n",
      "995  E03094     Wesley Young               Sr. Analyst   Marketing   \n",
      "996  E01909     Lillian Khan                   Analyst     Finance   \n",
      "997  E04398      Oliver Yang                  Director   Marketing   \n",
      "998  E02521      Lily Nguyen               Sr. Analyst     Finance   \n",
      "999  E03545      Sofia Cheng            Vice President  Accounting   \n",
      "\n",
      "              Business Unit  Gender  Ethnicity  Age  Hire Date  Annual Salary  \\\n",
      "0    Research & Development  Female      Black   55 2016-04-08         141604   \n",
      "1             Manufacturing    Male      Asian   59 1997-11-29          99975   \n",
      "2       Speciality Products  Female  Caucasian   50 2006-10-26         163099   \n",
      "3             Manufacturing  Female  Caucasian   26 2019-09-27          84913   \n",
      "4             Manufacturing    Male      Asian   55 1995-11-20          95409   \n",
      "..                      ...     ...        ...  ...        ...            ...   \n",
      "995     Speciality Products    Male  Caucasian   33 2016-09-18          98427   \n",
      "996     Speciality Products  Female      Asian   44 2010-05-31          47387   \n",
      "997     Speciality Products    Male      Asian   31 2019-06-10         176710   \n",
      "998     Speciality Products  Female      Asian   33 2012-01-28          95960   \n",
      "999               Corporate  Female      Asian   63 2020-07-26         216195   \n",
      "\n",
      "     Bonus %        Country       City  Exit Date  \n",
      "0       0.15  United States    Seattle 2021-10-16  \n",
      "1       0.00          China  Chongqing        NaT  \n",
      "2       0.20  United States    Chicago        NaT  \n",
      "3       0.07  United States    Chicago        NaT  \n",
      "4       0.00  United States    Phoenix        NaT  \n",
      "..       ...            ...        ...        ...  \n",
      "995     0.00  United States   Columbus        NaT  \n",
      "996     0.00          China    Chengdu 2018-01-08  \n",
      "997     0.15  United States      Miami        NaT  \n",
      "998     0.00          China    Chengdu        NaT  \n",
      "999     0.31  United States      Miami        NaT  \n",
      "\n",
      "[1000 rows x 14 columns]\n",
      "     EEID        Full Name                 Job Title  Department  \\\n",
      "0  E02387      Emily Davis                Sr. Manger          IT   \n",
      "1  E04105    Theodore Dinh       Technical Architect          IT   \n",
      "2  E02572     Luna Sanders                  Director     Finance   \n",
      "3  E02832  Penelope Jordan  Computer Systems Manager          IT   \n",
      "4  E01639        Austin Vo               Sr. Analyst     Finance   \n",
      "5  E00644     Joshua Gupta    Account Representative       Sales   \n",
      "6  E01550      Ruby Barnes                   Manager          IT   \n",
      "7  E04332      Luke Martin                   Analyst     Finance   \n",
      "8  E04533    Easton Bailey                   Manager  Accounting   \n",
      "9  E03838  Madeline Walker               Sr. Analyst     Finance   \n",
      "\n",
      "            Business Unit  Gender  Ethnicity  Age  Hire Date  Annual Salary  \\\n",
      "0  Research & Development  Female      Black   55 2016-04-08         141604   \n",
      "1           Manufacturing    Male      Asian   59 1997-11-29          99975   \n",
      "2     Speciality Products  Female  Caucasian   50 2006-10-26         163099   \n",
      "3           Manufacturing  Female  Caucasian   26 2019-09-27          84913   \n",
      "4           Manufacturing    Male      Asian   55 1995-11-20          95409   \n",
      "5               Corporate    Male      Asian   57 2017-01-24          50994   \n",
      "6               Corporate  Female  Caucasian   27 2020-07-01         119746   \n",
      "7           Manufacturing    Male      Black   25 2020-05-16          41336   \n",
      "8           Manufacturing    Male  Caucasian   29 2019-01-25         113527   \n",
      "9     Speciality Products  Female  Caucasian   34 2018-06-13          77203   \n",
      "\n",
      "   Bonus %        Country       City  Exit Date  GetBonus  \n",
      "0     0.15  United States    Seattle 2021-10-16     bonus  \n",
      "1     0.00          China  Chongqing        NaT  no Bonus  \n",
      "2     0.20  United States    Chicago        NaT     bonus  \n",
      "3     0.07  United States    Chicago        NaT     bonus  \n",
      "4     0.00  United States    Phoenix        NaT  no Bonus  \n",
      "5     0.00          China  Chongqing        NaT  no Bonus  \n",
      "6     0.10  United States    Phoenix        NaT     bonus  \n",
      "7     0.00  United States      Miami 2021-05-20  no Bonus  \n",
      "8     0.06  United States     Austin        NaT     bonus  \n",
      "9     0.00  United States    Chicago        NaT  no Bonus  \n"
     ]
    }
   ],
   "source": [
    "#Condition Applying on Column.\n",
    "df = pd.read_excel(\"ESD.xlsx\")\n",
    "print(data)\n",
    "\n",
    "df.loc[(df[\"Bonus %\"] == 0), \"GetBonus\"] = \"no Bonus\"\n",
    "df.loc[(df[\"Bonus %\"] > 0, \"GetBonus\")] = \"bonus\"\n",
    "print(df.head(10))"
   ]
  },
  {
   "cell_type": "code",
   "execution_count": 14,
   "id": "35c4ac19-627a-45cc-a402-e82bd2ccb559",
   "metadata": {},
   "outputs": [
    {
     "name": "stdout",
     "output_type": "stream",
     "text": [
      "    EEID      Name gender   salary Name_Gender\n",
      "0  EMP01    ayushi      F      NaN    AYUSHI F\n",
      "1  EMP02     rohit      M  25000.0     ROHIT M\n",
      "2  EMP03  pranjali    NaN  27000.0         NaN\n",
      "3  EMP01    ayushi      F  20000.0    AYUSHI F\n",
      "4  EMP05       NaN      M  25000.0         NaN\n",
      "5  EMP06     rohit      M      NaN     ROHIT M\n",
      "6  EMP02     rohit      M  25000.0     ROHIT M\n"
     ]
    }
   ],
   "source": [
    "#Concatinate Column\n",
    "data = pd.read_csv(\"company1.csv\")\n",
    "#print(data)\n",
    "data['Name_Gender'] = data['Name'].str.upper() + \" \" + data['gender']\n",
    "print(data)"
   ]
  },
  {
   "cell_type": "markdown",
   "id": "36b51fbb-90ad-49d7-a6f8-119ad3190f28",
   "metadata": {},
   "source": [
    "5.2-Column Transformation in Pandas Part-2."
   ]
  },
  {
   "cell_type": "markdown",
   "id": "0866fbe9-ed6b-4467-afd5-9556412da68d",
   "metadata": {},
   "source": [
    "data = pd.read_csv(\"company1.csv\")\n",
    "#print(data)\n",
    "\n",
    "#Bonus calculate\n",
    "data['Bonus'] = (data['salary']/100) * 20\n",
    "print(data)"
   ]
  },
  {
   "cell_type": "code",
   "execution_count": 8,
   "id": "d829ff5b-5a45-4e26-8383-676aa77e9738",
   "metadata": {},
   "outputs": [
    {
     "name": "stdout",
     "output_type": "stream",
     "text": [
      "      Month Short_Month\n",
      "0   January         Jan\n",
      "1  February         Feb\n",
      "2     March         Mar\n",
      "3     April         Apr\n"
     ]
    }
   ],
   "source": [
    "# String Short Value extract.\n",
    "data = {\"Month\": [\"January\", \"February\", \"March\", \"April\"]}\n",
    "a = pd.DataFrame(data)\n",
    "#print(a)\n",
    "\n",
    "def extract(value):\n",
    "    return value[0:3]\n",
    "\n",
    "a[\"Short_Month\"] = a[\"Month\"].map(extract)\n",
    "print(a)\n"
   ]
  },
  {
   "cell_type": "markdown",
   "id": "49e4cc91-ee84-44ee-a73d-f9393bc58906",
   "metadata": {},
   "source": [
    "6-Python PandasGroup by"
   ]
  },
  {
   "cell_type": "code",
   "execution_count": 3,
   "id": "fd638551-8f67-4347-8ee6-732f20ee984a",
   "metadata": {},
   "outputs": [
    {
     "name": "stdout",
     "output_type": "stream",
     "text": [
      "     EEID        Full Name                 Job Title  Department  \\\n",
      "0  E02387      Emily Davis                Sr. Manger          IT   \n",
      "1  E04105    Theodore Dinh       Technical Architect          IT   \n",
      "2  E02572     Luna Sanders                  Director     Finance   \n",
      "3  E02832  Penelope Jordan  Computer Systems Manager          IT   \n",
      "4  E01639        Austin Vo               Sr. Analyst     Finance   \n",
      "5  E00644     Joshua Gupta    Account Representative       Sales   \n",
      "6  E01550      Ruby Barnes                   Manager          IT   \n",
      "7  E04332      Luke Martin                   Analyst     Finance   \n",
      "8  E04533    Easton Bailey                   Manager  Accounting   \n",
      "9  E03838  Madeline Walker               Sr. Analyst     Finance   \n",
      "\n",
      "            Business Unit  Gender  Ethnicity  Age  Hire Date  Annual Salary  \\\n",
      "0  Research & Development  Female      Black   55 2016-04-08         141604   \n",
      "1           Manufacturing    Male      Asian   59 1997-11-29          99975   \n",
      "2     Speciality Products  Female  Caucasian   50 2006-10-26         163099   \n",
      "3           Manufacturing  Female  Caucasian   26 2019-09-27          84913   \n",
      "4           Manufacturing    Male      Asian   55 1995-11-20          95409   \n",
      "5               Corporate    Male      Asian   57 2017-01-24          50994   \n",
      "6               Corporate  Female  Caucasian   27 2020-07-01         119746   \n",
      "7           Manufacturing    Male      Black   25 2020-05-16          41336   \n",
      "8           Manufacturing    Male  Caucasian   29 2019-01-25         113527   \n",
      "9     Speciality Products  Female  Caucasian   34 2018-06-13          77203   \n",
      "\n",
      "   Bonus %        Country       City  Exit Date  \n",
      "0     0.15  United States    Seattle 2021-10-16  \n",
      "1     0.00          China  Chongqing        NaT  \n",
      "2     0.20  United States    Chicago        NaT  \n",
      "3     0.07  United States    Chicago        NaT  \n",
      "4     0.00  United States    Phoenix        NaT  \n",
      "5     0.00          China  Chongqing        NaT  \n",
      "6     0.10  United States    Phoenix        NaT  \n",
      "7     0.00  United States      Miami 2021-05-20  \n",
      "8     0.06  United States     Austin        NaT  \n",
      "9     0.00  United States    Chicago        NaT  \n"
     ]
    }
   ],
   "source": [
    "data = pd.read_excel(\"ESD.xlsx\")\n",
    "print(data.head(10))"
   ]
  },
  {
   "cell_type": "code",
   "execution_count": 4,
   "id": "80e26070-a969-4cec-9989-7c0ac20948fe",
   "metadata": {},
   "outputs": [
    {
     "name": "stdout",
     "output_type": "stream",
     "text": [
      "                 Gender\n",
      "Department             \n",
      "Accounting           96\n",
      "Engineering         158\n",
      "Finance             120\n",
      "Human Resources     125\n",
      "IT                  241\n",
      "Marketing           120\n",
      "Sales               140\n"
     ]
    }
   ],
   "source": [
    "#Group by function on gender\n",
    "gp = data.groupby(\"Department\").agg({\"Gender\":\"count\"})\n",
    "print(gp)"
   ]
  },
  {
   "cell_type": "code",
   "execution_count": 5,
   "id": "82b04576-b5ce-4f8e-ac4b-015a701bf492",
   "metadata": {},
   "outputs": [
    {
     "name": "stdout",
     "output_type": "stream",
     "text": [
      "                        EEID\n",
      "Department      Gender      \n",
      "Accounting      Female    53\n",
      "                Male      43\n",
      "Engineering     Female    80\n",
      "                Male      78\n",
      "Finance         Female    69\n",
      "                Male      51\n",
      "Human Resources Female    64\n",
      "                Male      61\n",
      "IT              Female   119\n",
      "                Male     122\n",
      "Marketing       Female    57\n",
      "                Male      63\n",
      "Sales           Female    76\n",
      "                Male      64\n"
     ]
    }
   ],
   "source": [
    "gp = data.groupby([\"Department\",\"Gender\"]).agg({\"EEID\":\"count\"})\n",
    "print(gp)"
   ]
  },
  {
   "cell_type": "code",
   "execution_count": 8,
   "id": "78cededf-fb53-43fe-8399-aafaa49ecb20",
   "metadata": {},
   "outputs": [
    {
     "name": "stdout",
     "output_type": "stream",
     "text": [
      "               Annual Salary\n",
      "Country                     \n",
      "Brazil         112324.834532\n",
      "China          113823.532110\n",
      "United States  113204.794712\n"
     ]
    }
   ],
   "source": [
    "gp = data.groupby(\"Country\").agg({\"Annual Salary\":\"mean\"})\n",
    "print(gp)"
   ]
  },
  {
   "cell_type": "code",
   "execution_count": 11,
   "id": "2b9db86d-48d9-4436-8a42-aadadae1b999",
   "metadata": {},
   "outputs": [
    {
     "name": "stdout",
     "output_type": "stream",
     "text": [
      "                      Annual Salary  Age\n",
      "Country       Gender                    \n",
      "Brazil        Female         258426   25\n",
      "              Male           249506   26\n",
      "China         Female         249686   25\n",
      "              Male           257194   25\n",
      "United States Female         258498   25\n",
      "              Male           258081   25\n"
     ]
    }
   ],
   "source": [
    "gp = data.groupby([\"Country\", \"Gender\"]).agg({\"Annual Salary\":\"max\",\"Age\":\"min\"})\n",
    "print(gp)"
   ]
  },
  {
   "cell_type": "markdown",
   "id": "a98105d8-3a01-4098-a258-f0cc638e4811",
   "metadata": {},
   "source": [
    "7-Merge , Concatinate and Join In Pandas."
   ]
  },
  {
   "cell_type": "code",
   "execution_count": 12,
   "id": "8886d1cb-3c6d-490d-abc7-644dfa837991",
   "metadata": {},
   "outputs": [
    {
     "name": "stdout",
     "output_type": "stream",
     "text": [
      "   Number Values\n",
      "0       1      a\n",
      "1       2      b\n",
      "2       3      c\n",
      "3       4      d\n",
      "   Number Values\n",
      "0       3      x\n",
      "1       4      y\n",
      "2       5      z\n",
      "3       6      w\n",
      "   Number Values_x Values_y\n",
      "0       3        c        x\n",
      "1       4        d        y\n"
     ]
    }
   ],
   "source": [
    "# Creating two sample DataFrames\n",
    "df1 = pd.DataFrame({'Number': [1, 2, 3, 4],\n",
    "                    'Values': ['a', 'b', 'c', 'd']})\n",
    "print(df1)\n",
    "\n",
    "df2 = pd.DataFrame({'Number': [3, 4, 5, 6],\n",
    "                    'Values': ['x', 'y', 'z', 'w']})\n",
    "\n",
    "print(df2)\n",
    "\n",
    "# Merging based on common column 'A'\n",
    "merged_df = pd.merge(df1, df2, on='Number')\n",
    "\n",
    "print(merged_df)"
   ]
  },
  {
   "cell_type": "code",
   "execution_count": 13,
   "id": "8a217a82-8ed0-477c-b8b0-f429e4a843b2",
   "metadata": {},
   "outputs": [
    {
     "name": "stdout",
     "output_type": "stream",
     "text": [
      "   Number Values_x Values_y\n",
      "0       1        a      NaN\n",
      "1       2        b      NaN\n",
      "2       3        c        x\n",
      "3       4        d        y\n"
     ]
    }
   ],
   "source": [
    "merged_df = pd.merge(df1, df2, on='Number', how='left')\n",
    "print(merged_df)"
   ]
  },
  {
   "cell_type": "code",
   "execution_count": 14,
   "id": "34050c84-0ccb-4cfe-8f85-07a99e0f3b58",
   "metadata": {},
   "outputs": [
    {
     "name": "stdout",
     "output_type": "stream",
     "text": [
      "   Number Values_x Values_y\n",
      "0       3        c        x\n",
      "1       4        d        y\n",
      "2       5      NaN        z\n",
      "3       6      NaN        w\n"
     ]
    }
   ],
   "source": [
    "merged_df = pd.merge(df1, df2, on='Number', how='right')\n",
    "print(merged_df)"
   ]
  },
  {
   "cell_type": "markdown",
   "id": "1d8ca84f-b8b6-4ad4-a413-0b9f38cb2bdb",
   "metadata": {},
   "source": [
    "7.2: Join Data"
   ]
  },
  {
   "cell_type": "code",
   "execution_count": 17,
   "id": "78460cef-17bf-46c5-b243-c6032d7aca86",
   "metadata": {},
   "outputs": [
    {
     "name": "stdout",
     "output_type": "stream",
     "text": [
      "   Number_df1 Values_df1  Number_df2 Values_df2\n",
      "0           1          a           3          x\n",
      "1           2          b           4          y\n",
      "2           3          c           5          z\n",
      "3           4          d           6          w\n"
     ]
    }
   ],
   "source": [
    "# Joining based on index (common column 'A')\n",
    "joined_df = df1.join(df2, lsuffix='_df1', rsuffix='_df2')\n",
    "print(joined_df)"
   ]
  },
  {
   "cell_type": "markdown",
   "id": "50780da8-93f8-4d95-8f49-8a579451ad84",
   "metadata": {},
   "source": [
    "7.3:Concatinate data"
   ]
  },
  {
   "cell_type": "code",
   "execution_count": 18,
   "id": "252d49fc-d185-4bb2-b1da-202fc21330f8",
   "metadata": {},
   "outputs": [
    {
     "name": "stdout",
     "output_type": "stream",
     "text": [
      "   A  B\n",
      "0  1  a\n",
      "1  2  b\n",
      "2  3  c\n"
     ]
    }
   ],
   "source": [
    "# Creating a sample DataFrame\n",
    "df = pd.DataFrame({'A': [1, 2, 3],\n",
    "                   'B': ['a', 'b', 'c']})\n",
    "\n",
    "# Concatenating columns 'A' and 'B' using the concat function\n",
    "concatenated_column = pd.concat([df['A'].astype(str), df['B']], axis=1)\n",
    "\n",
    "print(concatenated_column)"
   ]
  },
  {
   "cell_type": "markdown",
   "id": "3eef8fc1-af63-4b3e-8a08-e883ae7d5587",
   "metadata": {},
   "source": [
    "8- Compare DataFrame in Pandas."
   ]
  },
  {
   "cell_type": "markdown",
   "id": "907c97e7-fea6-4fa9-a8d9-fc820a555d9d",
   "metadata": {},
   "source": [
    "df1 = pd.DataFrame({'A': [1, 2, 3],\n",
    "                    'B': ['a', 'b', 'c']})\n",
    "\n",
    "df2 = pd.DataFrame({'A': [1, 2, 4],\n",
    "                    'B': ['a', 'b', 'd']})\n",
    "\n",
    "comparison = df1 == df2\n",
    "print(comparison)"
   ]
  },
  {
   "cell_type": "code",
   "execution_count": 20,
   "id": "d57775a6-290c-4187-aa1b-1ec4cf42f54a",
   "metadata": {},
   "outputs": [
    {
     "name": "stdout",
     "output_type": "stream",
     "text": [
      "0    False\n",
      "1     True\n",
      "2    False\n",
      "Name: A, dtype: bool\n",
      "A    False\n",
      "B    False\n",
      "dtype: bool\n"
     ]
    }
   ],
   "source": [
    "df = pd.DataFrame({'A': [1, 2, 3],\n",
    "                   'B': ['a', 'b', 'c']})\n",
    "\n",
    "# Comparing column 'A' with a specific value\n",
    "comparison = df['A'] == 2\n",
    "print(comparison)\n",
    "\n",
    "# Comparing row with index 0 with another row\n",
    "row_comparison = df.iloc[0] == df.iloc[1]\n",
    "print(row_comparison)"
   ]
  },
  {
   "cell_type": "code",
   "execution_count": 21,
   "id": "2ec38ed3-3565-4a51-8f80-766795a0a0d2",
   "metadata": {},
   "outputs": [
    {
     "name": "stdout",
     "output_type": "stream",
     "text": [
      "True\n"
     ]
    }
   ],
   "source": [
    "df1 = pd.DataFrame({'A': [1, 2, 3],\n",
    "                    'B': ['a', 'b', 'c']})\n",
    "\n",
    "df2 = pd.DataFrame({'A': [1, 2, 3],\n",
    "                    'B': ['a', 'b', 'c']})\n",
    "\n",
    "print(df1.equals(df2))"
   ]
  },
  {
   "cell_type": "markdown",
   "id": "fdcc9c34-8ba5-46b6-a634-6e8e6ac8365a",
   "metadata": {},
   "source": [
    "9-Pivoting and Melting DataFrame.\n",
    "pivoting and melting are two common operations used for reshaping data.\n",
    "\n",
    "Pivoting involves reshaping the data to have a new shape based on the values of a column. \n",
    "It is often used to convert long-form data into wide-form data."
   ]
  },
  {
   "cell_type": "code",
   "execution_count": 23,
   "id": "95c6a66c-beb1-4c6c-878f-87dd38645c44",
   "metadata": {},
   "outputs": [
    {
     "name": "stdout",
     "output_type": "stream",
     "text": [
      "city         A   B\n",
      "date              \n",
      "2022-01-01  25  30\n",
      "2022-01-02  28  32\n"
     ]
    }
   ],
   "source": [
    "# Creating a sample DataFrame\n",
    "data = {'date': ['2022-01-01', '2022-01-01', '2022-01-02', '2022-01-02'],\n",
    "        'city': ['A', 'B', 'A', 'B'],\n",
    "        'temperature': [25, 30, 28, 32]}\n",
    "\n",
    "df = pd.DataFrame(data)\n",
    "\n",
    "# Pivoting the DataFrame\n",
    "pivoted_df = df.pivot(index='date', columns='city', values='temperature')\n",
    "\n",
    "print(pivoted_df)"
   ]
  },
  {
   "cell_type": "markdown",
   "id": "177e5b39-23a5-4411-89d7-82e519092894",
   "metadata": {},
   "source": [
    "Melting is the inverse operation of pivoting. It converts wide-form data into long-form data by unpivoting the DataFrame."
   ]
  },
  {
   "cell_type": "code",
   "execution_count": 24,
   "id": "e1470375-ae00-439e-9115-08738d1e2245",
   "metadata": {},
   "outputs": [
    {
     "name": "stdout",
     "output_type": "stream",
     "text": [
      "         date city  temperature\n",
      "0  2022-01-01    A           25\n",
      "1  2022-01-01    A           30\n",
      "2  2022-01-02    A           28\n",
      "3  2022-01-02    A           32\n",
      "4  2022-01-01    B           27\n",
      "5  2022-01-01    B           31\n",
      "6  2022-01-02    B           29\n",
      "7  2022-01-02    B           33\n"
     ]
    }
   ],
   "source": [
    "# Creating a sample DataFrame\n",
    "data = {'date': ['2022-01-01', '2022-01-01', '2022-01-02', '2022-01-02'],\n",
    "        'A': [25, 30, 28, 32],\n",
    "        'B': [27, 31, 29, 33]}\n",
    "\n",
    "df = pd.DataFrame(data)\n",
    "\n",
    "# Melting the DataFrame\n",
    "melted_df = pd.melt(df, id_vars=['date'], var_name='city', value_name='temperature')\n",
    "\n",
    "print(melted_df)"
   ]
  },
  {
   "cell_type": "code",
   "execution_count": null,
   "id": "3b2d3a19-3e5a-40d5-8aab-5a68cbf557b0",
   "metadata": {},
   "outputs": [],
   "source": []
  }
 ],
 "metadata": {
  "kernelspec": {
   "display_name": "Python 3 (ipykernel)",
   "language": "python",
   "name": "python3"
  },
  "language_info": {
   "codemirror_mode": {
    "name": "ipython",
    "version": 3
   },
   "file_extension": ".py",
   "mimetype": "text/x-python",
   "name": "python",
   "nbconvert_exporter": "python",
   "pygments_lexer": "ipython3",
   "version": "3.12.1"
  }
 },
 "nbformat": 4,
 "nbformat_minor": 5
}
